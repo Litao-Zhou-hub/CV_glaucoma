{
 "cells": [
  {
   "cell_type": "code",
   "execution_count": 1,
   "metadata": {},
   "outputs": [],
   "source": [
    "# 原始图像地址\n",
    "import numpy as np\n",
    "import cv2\n",
    "from matplotlib import pyplot as plt\n",
    "# 图片显示\n",
    "def show_plt(imgs_tuple):\n",
    "    \"\"\" 图像显示。传参：图像元组 返回值：无 \"\"\"\n",
    "    out_imgs=np.hstack(imgs_tuple)\n",
    "    out_imgs = cv2.cvtColor(out_imgs,cv2.COLOR_RGBA2BGR)\n",
    "    plt.imshow(out_imgs)\n",
    "\n",
    "# K-Means聚类--用于圆形拟合视杯区域\n",
    "def kmeans(roi):\n",
    "    # K-Means\n",
    "    criteria = (cv2.TERM_CRITERIA_EPS + cv2.TERM_CRITERIA_MAX_ITER, 10, 1.0)\n",
    "    flags = cv2.KMEANS_RANDOM_CENTERS\n",
    "    X = roi.reshape((-1, 1))\n",
    "    X = np.float32(X)\n",
    "    _,labels,centers = cv2.kmeans(X,2,None,criteria,2,flags)\n",
    "\n",
    "    centers[labels[0]]=[0]\n",
    "    centers = np.uint8(centers)\n",
    "    res= centers[labels.flatten()]\n",
    "    res2 = res.reshape((roi.shape))\n",
    "    return res2\n",
    "# 霍夫曼圆形拟合\n",
    "def HoughCircles_trans(img):\n",
    "    HoughCircles_img=img.copy()\n",
    "    circle1 = cv2.HoughCircles(HoughCircles_img, cv2.HOUGH_GRADIENT, 1, 3000, param1=200, param2=0.9, minRadius=100, maxRadius=256)  #把半径范围缩小点，检测内圆，瞳孔\n",
    "    # print(circle1.shape)\n",
    "    circles = circle1[0, :, :]  # 提取为二维\n",
    "    circles = np.uint16(np.around(circles))  # 四舍五入，取整\n",
    "    # show_plt((circles,))\n",
    "    return circles[0]\n",
    "\n",
    "# 膨胀\n",
    "def dilate_img(thresh3):\n",
    "    # kernel1 = cv2.getStructuringElement(cv2.MORPH_ELLIPSE, (5, 5))\n",
    "    # dst = cv2.dilate(thresh3, kernel1)\n",
    "    return thresh3\n",
    "\n",
    "# 选择通道\n",
    "def channel_selct(img,channel=\"r\"):\n",
    "    b,g,r = cv2.split(img)\n",
    "    img_gray=cv2.cvtColor(img,cv2.COLOR_BGR2GRAY)\n",
    "    \n",
    "    g_=r\n",
    "    if channel==\"b\":\n",
    "        g_=b\n",
    "    elif(channel==\"g\"):\n",
    "        g_=g\n",
    "    elif(channel==\"gray\"):\n",
    "        g_=img_gray\n",
    "    return g_\n",
    "\n",
    "def cv_function_r(img_path,channel=\"r\",file_name=\"test.png\"):\n",
    "    img = cv2.imread(img_path)\n",
    "    # 选择通道\n",
    "    img_c=channel_selct(img,channel=\"r\")\n",
    "    g_=img_c.copy()\n",
    "    # # 直方图\n",
    "    # g_=cv2.equalizeHist(g_)\n",
    "    # eq_img=g_.copy()\n",
    "    # 对直方图处理的图片进行聚类分析，得到视杯区域\n",
    "    g_=kmeans(g_)\n",
    "    kmeans_img=g_.copy()\n",
    "    # 膨胀处理，消除血管位置对视盘区域识别的影响\n",
    "    dilate_img_=dilate_img(g_.copy())\n",
    "    dil_img_=dilate_img_.copy()\n",
    "    # 霍夫曼圆形拟合，得到【x,y,半径】\n",
    "    info_circle=HoughCircles_trans(dilate_img_)\n",
    "    # print(f\"info_circle{info_circle}\")\n",
    "    # 得到mask\n",
    "    xxx__=cv2.circle(img_c.copy(), (info_circle[0], info_circle[1]), info_circle[2]+50, 255, -1)  # 画圆\n",
    "    _,mask__=cv2.threshold(xxx__,254,255,cv2.THRESH_BINARY)\n",
    "    img_hough=img_c.copy()\n",
    "    img_hough = cv2.add(img_hough, np.zeros(np.shape(img_hough), dtype=np.uint8), mask=mask__)\n",
    "    to_save_img=np.hstack((img_c,kmeans_img,dil_img_,mask__,img_hough))\n",
    "    cv2.imwrite(f\"/home/wzc/zlt_self/CV_Work/hough_aft/{file_name}\",to_save_img)\n"
   ]
  },
  {
   "cell_type": "code",
   "execution_count": 2,
   "metadata": {},
   "outputs": [],
   "source": [
    "img_path=\"/home/wzc/zlt_self/pOSAL-master/data/refuge/train0/disc_small/image/n0112.png\"\n",
    "\n",
    "cv_function_r(img_path)"
   ]
  },
  {
   "cell_type": "code",
   "execution_count": 3,
   "metadata": {},
   "outputs": [
    {
     "name": "stdout",
     "output_type": "stream",
     "text": [
      "length:50---Drishti-GS/train/disc_small/image\n",
      "length:51---Drishti-GS/test/disc_small/image\n",
      "length:321---refuge/train/disc_small/image\n",
      "！！！不存在：/home/wzc/zlt_self/ZNewMyModel/data/refuge/test/disc_small/image！！！\n"
     ]
    }
   ],
   "source": [
    "import os\n",
    "# 判断存储位置是否存在，没有则创建\n",
    "save_hough_path=\"/home/wzc/zlt_self/CV_Work/hough_aft\"\n",
    "if not os.path.exists(save_hough_path):\n",
    "    os.mkdir(save_hough_path)\n",
    "# 获得所有img地址\n",
    "# root_path=f\"/home/wzc/zlt_self/ZNewMyModel/data/Drishti-GS/test/disc_small/image\"\n",
    "sub_dir=[\"Drishti-GS\",\"refuge\"]\n",
    "next_dir=[\"train\",\"test\"]\n",
    "for sub_dir_ in sub_dir:\n",
    "    for next_dir_ in next_dir:\n",
    "        img_dir=f\"/home/wzc/zlt_self/ZNewMyModel/data/{sub_dir_}/{next_dir_}/disc_small/image\"\n",
    "        if os.path.exists(img_dir):\n",
    "            file_names=os.listdir(img_dir)\n",
    "            print(f\"length:{file_names.__len__()}---{sub_dir_}/{next_dir_}/disc_small/image\")\n",
    "            for file_name in file_names:\n",
    "                img_path=os.path.join(img_dir,file_name)\n",
    "                cv_function_r(img_path,file_name=file_name,channel=\"gray\")\n",
    "        else:\n",
    "                print(f\"！！！不存在：{img_dir}！！！\")"
   ]
  },
  {
   "cell_type": "code",
   "execution_count": 4,
   "metadata": {},
   "outputs": [
    {
     "data": {
      "text/plain": [
       "3"
      ]
     },
     "execution_count": 4,
     "metadata": {},
     "output_type": "execute_result"
    }
   ],
   "source": [
    "[1,2,3].__len__()"
   ]
  }
 ],
 "metadata": {
  "kernelspec": {
   "display_name": "pytorch_env",
   "language": "python",
   "name": "python3"
  },
  "language_info": {
   "codemirror_mode": {
    "name": "ipython",
    "version": 3
   },
   "file_extension": ".py",
   "mimetype": "text/x-python",
   "name": "python",
   "nbconvert_exporter": "python",
   "pygments_lexer": "ipython3",
   "version": "3.8.16"
  },
  "orig_nbformat": 4
 },
 "nbformat": 4,
 "nbformat_minor": 2
}
